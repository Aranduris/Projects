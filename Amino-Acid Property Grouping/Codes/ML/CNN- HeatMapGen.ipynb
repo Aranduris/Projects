{
 "cells": [
  {
   "cell_type": "code",
   "execution_count": 1,
   "id": "96a7338b",
   "metadata": {},
   "outputs": [],
   "source": [
    "# Base Imports\n",
    "import numpy as np\n",
    "import pandas as pd\n",
    "import os\n",
    "import warnings\n",
    "warnings.filterwarnings('ignore')\n",
    "# SVD and scaler\n",
    "from sklearn.decomposition import TruncatedSVD\n",
    "from sklearn.preprocessing import StandardScaler,normalize\n",
    "# Image creating and Processing\n",
    "import matplotlib.pyplot as plt\n",
    "from PIL import Image"
   ]
  },
  {
   "cell_type": "code",
   "execution_count": 2,
   "id": "97f3451f",
   "metadata": {},
   "outputs": [],
   "source": [
    "Names = pd.read_csv(\"C:/Users/ritwi/OneDrive/Documents/MS_DataScience/Thesis/Project/Data/Sample/sample_function.csv\")\n",
    "Names = Names.drop('t_tax_seq_id', axis=1)\n",
    "Names = Names.drop_duplicates()"
   ]
  },
  {
   "cell_type": "code",
   "execution_count": 3,
   "id": "1697963a",
   "metadata": {},
   "outputs": [],
   "source": [
    "Function = pd.read_csv(\"C:/Users/ritwi/OneDrive/Documents/MS_DataScience/Thesis/Project/Data/Sample/sample_function.csv\")\n",
    "Function = Function.drop('go_function',axis=1)\n",
    "final_table_columns = ['GO:0008150','GO:0005488','GO:0003824','GO:0005515',\n",
    "                       'GO:0005575','GO:0008152','GO:0009987','GO:0003674',\n",
    "                       'GO:0110165','GO:0071704']\n",
    "Function = Function[Function['go_go_id'].isin(final_table_columns)]"
   ]
  },
  {
   "cell_type": "code",
   "execution_count": 4,
   "id": "8205280f",
   "metadata": {},
   "outputs": [],
   "source": [
    "one_hot_encoded = pd.get_dummies(Function, columns=['go_go_id'])\n",
    "one_hot_encoded = one_hot_encoded.groupby('t_tax_seq_id').sum().reset_index()\n",
    "one_hot_encoded.columns = one_hot_encoded.columns.str.replace('go_go_id_', '')"
   ]
  },
  {
   "cell_type": "code",
   "execution_count": 5,
   "id": "21dfc21f",
   "metadata": {},
   "outputs": [],
   "source": [
    "Seq = pd.read_csv(\"C:/Users/ritwi/OneDrive/Documents/MS_DataScience/Thesis/Project/Data/Sample/sample.csv\")\n",
    "Seq = Seq.drop('tax_id',axis=1)"
   ]
  },
  {
   "cell_type": "code",
   "execution_count": 6,
   "id": "1447a63f",
   "metadata": {},
   "outputs": [],
   "source": [
    "Merge_df = pd.merge(Seq, one_hot_encoded, left_on='tax_seq_id', right_on='t_tax_seq_id', how='inner')"
   ]
  },
  {
   "cell_type": "code",
   "execution_count": 7,
   "id": "ac3e3b23",
   "metadata": {},
   "outputs": [],
   "source": [
    "Merge_df = Merge_df.drop(columns=['t_tax_seq_id'])\n",
    "Merge_df.set_index('tax_seq_id', inplace=True)\n",
    "Merge_df['seq_length'] = Merge_df['seq'].apply(lambda x: len(str(x)))\n",
    "Merge_df = Merge_df[Merge_df['seq_length']<=500]\n",
    "Merge_df = Merge_df.drop(columns=['seq_length'])"
   ]
  },
  {
   "cell_type": "code",
   "execution_count": 8,
   "id": "c2622c8d",
   "metadata": {},
   "outputs": [],
   "source": [
    "X = Merge_df.drop(columns=Merge_df.columns[1:])\n",
    "Y = Merge_df.drop(columns=Merge_df.columns[0])\n",
    "total_words = 24"
   ]
  },
  {
   "cell_type": "code",
   "execution_count": 9,
   "id": "689821fc",
   "metadata": {},
   "outputs": [],
   "source": [
    "max_length_column1 = X['seq'].apply(len).max()"
   ]
  },
  {
   "cell_type": "code",
   "execution_count": 10,
   "id": "b6f819a9",
   "metadata": {},
   "outputs": [],
   "source": [
    "def tokenized(sequence):\n",
    "    tokenizer = {'A': 1,'C': 2,'D': 3,'E': 4,'F': 5,'G': 6,\n",
    "               'H': 7,'I': 8,'K': 9,'L': 10,'M': 11,'N': 12,\n",
    "               'P': 13,'Q': 14,'R': 15,'S': 16,'T': 17,\n",
    "               'V': 18,'W': 19,'Y': 20, 'O':21, 'U':22, 'Z':23}\n",
    "    sequence_values = []\n",
    "    for letter in sequence:\n",
    "        if letter in tokenizer:\n",
    "            sequence_values.append(tokenizer[letter])\n",
    "    return sequence_values"
   ]
  },
  {
   "cell_type": "code",
   "execution_count": 11,
   "id": "b1240675",
   "metadata": {},
   "outputs": [],
   "source": [
    "def range_finder(seq_list):\n",
    "    mapper = {1:[1,8,10,11,18],2:[5,19,20],3:[12,2,14,16,17],\n",
    "              4:[3,4],5:[15,7,9],6:[6,13],7:[21,22,23]}\n",
    "    result = []\n",
    "    current_group = []\n",
    "    current_group_number = None\n",
    "    for number in seq_list:\n",
    "        for group_number, group_elements in mapper.items():\n",
    "            if number in group_elements:\n",
    "                if group_number != current_group_number:\n",
    "                    if current_group:\n",
    "                        result.append(current_group)\n",
    "                    current_group = [number]\n",
    "                    current_group_number = group_number\n",
    "                else:\n",
    "                    current_group.append(number)\n",
    "                break\n",
    "        else:\n",
    "            if current_group:\n",
    "                result.append(current_group)\n",
    "            current_group = []\n",
    "            current_group_number = None\n",
    "    if current_group:\n",
    "        result.append(current_group)\n",
    "    return result"
   ]
  },
  {
   "cell_type": "code",
   "execution_count": 12,
   "id": "893aa711",
   "metadata": {},
   "outputs": [],
   "source": [
    "def n_gramer(seq_list,max_length_column1):\n",
    "    input_sequence = []\n",
    "    temp = []\n",
    "    rang = range_finder(seq_list)\n",
    "    for sublist in rang:\n",
    "        temp.extend(sublist)\n",
    "        input_sequence.append(temp.copy())\n",
    "    input_sequence = padding(input_sequence,max_length_column1)\n",
    "    return input_sequence"
   ]
  },
  {
   "cell_type": "code",
   "execution_count": 13,
   "id": "d29879a9",
   "metadata": {},
   "outputs": [],
   "source": [
    "def padding(input_seq,max_length_column1):\n",
    "    max_length = max_length_column1\n",
    "    padded_array = np.zeros((len(input_seq), max_length))\n",
    "    for i, row in enumerate(input_seq):\n",
    "        start_index = max_length - len(row)\n",
    "        padded_array[i, start_index:] = row\n",
    "    return(padded_array)"
   ]
  },
  {
   "cell_type": "code",
   "execution_count": 14,
   "id": "f41f5b29",
   "metadata": {},
   "outputs": [],
   "source": [
    "for index, row in X.iterrows():\n",
    "    seq = row['seq']\n",
    "    temp = tokenized(seq)\n",
    "    temp = n_gramer(temp, max_length_column1)\n",
    "    row['seq'] = temp"
   ]
  },
  {
   "cell_type": "code",
   "execution_count": 15,
   "id": "d11f4200",
   "metadata": {},
   "outputs": [],
   "source": [
    "#Convert Data to a 3D array\n",
    "def three_d_array(df):\n",
    "    num_samples = len(df)\n",
    "    max_rows = df['seq'].apply(lambda arr: arr.shape[0]).max()\n",
    "    num_columns = df['seq'].iloc[0].shape[1]\n",
    "    result = np.full((num_samples, max_rows, num_columns), np.nan)\n",
    "    for i, seq in enumerate(df['seq']):\n",
    "        start_row = max_rows - seq.shape[0]\n",
    "        result[i, start_row:, :] = seq\n",
    "    return result"
   ]
  },
  {
   "cell_type": "code",
   "execution_count": 16,
   "id": "1fd51c7e",
   "metadata": {},
   "outputs": [],
   "source": [
    "new_X = three_d_array(X)\n",
    "new_X = np.nan_to_num(new_X)"
   ]
  },
  {
   "cell_type": "code",
   "execution_count": 17,
   "id": "a4ba3fad",
   "metadata": {},
   "outputs": [],
   "source": [
    "def S_V_D(X):\n",
    "    n_components = 28\n",
    "    X = StandardScaler().fit_transform(X)\n",
    "    tsvd = TruncatedSVD(n_components=n_components)\n",
    "    reduced_array = tsvd.fit_transform(X)\n",
    "    reduced_array = reduced_array.T\n",
    "    reduced_array = tsvd.fit_transform(reduced_array)\n",
    "    reduced_array = reduced_array.T\n",
    "    positive_mask = reduced_array > 0\n",
    "    reduced_array[~positive_mask] = -np.log(-reduced_array[~positive_mask])\n",
    "    reduced_array[positive_mask] = np.log(reduced_array[positive_mask])\n",
    "    return reduced_array"
   ]
  },
  {
   "cell_type": "code",
   "execution_count": 18,
   "id": "33d13e12",
   "metadata": {},
   "outputs": [],
   "source": [
    "reduced_X = np.empty((2312, 28, 28))\n",
    "for i, row in enumerate(new_X):\n",
    "    temp = row\n",
    "    temp = S_V_D(temp)\n",
    "    reduced_X[i] = temp"
   ]
  },
  {
   "cell_type": "code",
   "execution_count": 19,
   "id": "7df4408a",
   "metadata": {},
   "outputs": [],
   "source": [
    "for i , row in enumerate(reduced_X):\n",
    "    fig = plt.figure(figsize=(1, 1))\n",
    "    plt.imshow(row, cmap='Spectral', interpolation='nearest')\n",
    "    plt.xticks([])\n",
    "    plt.yticks([])\n",
    "    plt.subplots_adjust(left=0, right=1, top=1, bottom=0)\n",
    "    plt.savefig(f'Heatmaps/{i}.png', bbox_inches='tight', pad_inches=0,dpi=28)\n",
    "    plt.close()"
   ]
  },
  {
   "cell_type": "code",
   "execution_count": null,
   "id": "4cbfc070",
   "metadata": {},
   "outputs": [],
   "source": []
  }
 ],
 "metadata": {
  "kernelspec": {
   "display_name": "Python [conda env:cmps530] *",
   "language": "python",
   "name": "conda-env-cmps530-py"
  },
  "language_info": {
   "codemirror_mode": {
    "name": "ipython",
    "version": 3
   },
   "file_extension": ".py",
   "mimetype": "text/x-python",
   "name": "python",
   "nbconvert_exporter": "python",
   "pygments_lexer": "ipython3",
   "version": "3.9.16"
  }
 },
 "nbformat": 4,
 "nbformat_minor": 5
}
